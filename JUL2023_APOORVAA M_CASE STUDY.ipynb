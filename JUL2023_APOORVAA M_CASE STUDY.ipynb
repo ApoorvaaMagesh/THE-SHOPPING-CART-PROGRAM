{
 "cells": [
  {
   "cell_type": "markdown",
   "metadata": {},
   "source": [
    "# CASE STUDY"
   ]
  },
  {
   "cell_type": "markdown",
   "metadata": {},
   "source": [
    "## THE SHOPPING CART PROGRAM"
   ]
  },
  {
   "cell_type": "code",
   "execution_count": 2,
   "metadata": {},
   "outputs": [
    {
     "name": "stdout",
     "output_type": "stream",
     "text": [
      "--------------------Essential Items Available-------------------\n",
      "      S.NO      ITEM       QUANTITY      COST\n",
      "       1       Biscuits       5       2.500000\n",
      "       2       Oats          20       3.500000\n",
      "       3       Chicken       20       13.500000\n",
      "       4       Maggie        10       3.980000\n",
      "       5       Rice          10       4.500000\n",
      "Enter quantity for Biscuits (available stock: 20): 20\n",
      "Enter quantity for Oats (available stock: 2): 2\n",
      "Enter quantity for Chicken (available stock: 1): 1\n",
      "Enter quantity for Maggie (available stock: 4): 4\n",
      "Enter quantity for Rice (available stock: 2): 2\n",
      "Enter your name: apoorvaa\n",
      "Enter your delivery address: perambur chennai\n",
      "Delivery Address: perambur chennai\n",
      "Selected quantities: {'Biscuits': 20, 'Oats': 2, 'Chicken': 1, 'Maggie': 4, 'Rice': 2}\n",
      "Delivery Charge: $ 10\n",
      "Total Cost: $ 105.22\n",
      "\n",
      "------ Final Bill ------\n",
      "Customer Name: apoorvaa\n",
      "Delivery Address: perambur chennai\n",
      "\n",
      "Items Purchased:\n",
      "Biscuits: Quantity - 20, Price - $2.50, Subtotal - $50.00\n",
      "Oats: Quantity - 2, Price - $3.50, Subtotal - $7.00\n",
      "Chicken: Quantity - 1, Price - $13.30, Subtotal - $13.30\n",
      "Maggie: Quantity - 4, Price - $3.98, Subtotal - $15.92\n",
      "Rice: Quantity - 2, Price - $4.50, Subtotal - $9.00\n",
      "\n",
      "Delivery Charge: $ 10\n",
      "Total Cost: $ 105.22\n",
      "Do you want to continue (yes/no)? no\n",
      "Thank you for shopping with us! Visit Again.\n"
     ]
    }
   ],
   "source": [
    "print(\"--------------------Essential Items Available-------------------\") #listing available items\n",
    "print(\"%10s%10s%15s%10s\"%(\"S.NO\",\"ITEM\",\"QUANTITY\",\"COST\"))\n",
    "print(\"%8s%15s%8s%15f\"%(1,\"Biscuits\",5,2.50))\n",
    "print(\"%8s%11s%12s%15f\"%(2,\"Oats\",20,3.50))                               #listing items with quantity and price respectively\n",
    "print(\"%8s%14s%9s%16f\"%(3,\"Chicken\",20,13.50))\n",
    "print(\"%8s%13s%10s%15f\"%(4,\"Maggie\",10,3.98))\n",
    "print(\"%8s%11s%12s%15f\"%(5,\"Rice\",10,4.50))\n",
    "\n",
    "items = { \"Biscuits\":{\"price\":2.50,\"stock\":20},\n",
    "         \"Oats\":{\"price\":3.50,\"stock\":2},                              #Items Dictionary\n",
    "         \"Chicken\":{\"price\":13.30,\"stock\":1},\n",
    "         \"Maggie\":{\"price\":3.98,\"stock\":4},\n",
    "         \"Rice\":{\"price\":4.50,\"stock\":2}\n",
    "        }\n",
    "quantities = {}\n",
    "\n",
    "for item in items:                                                   # checking item available stock if not display out of stock\n",
    "    quantity = int(input(f\"Enter quantity for {item} (available stock: {items[item]['stock']}): \"))\n",
    "    if quantity > items[item]['stock']:\n",
    "        print(f\"{item} is out of stock. Available stock: {items[item]['stock']}\")\n",
    "    else:\n",
    "        quantities[item] = quantity\n",
    "        items[item]['stock'] = quantity - 1     #Substract the requested quantity from the available stock\n",
    "\n",
    "customer_name = input(\"Enter your name: \")   # enter user name\n",
    "delivery_address = input(\"Enter your delivery address: \")   # enter user delivery address\n",
    "distance = 5                 # calculating delivery charges based on the distance\n",
    "if distance <= 5:\n",
    "    delivery_charge = 10\n",
    "elif distance <= 10:\n",
    "    delivery_charge = 12\n",
    "elif distance <= 15:\n",
    "    delivery_charge = 14\n",
    "else:\n",
    "    delivery_charge = 20\n",
    "    \n",
    "print(\"Delivery Address:\", delivery_address)   # printing delivery address\n",
    "print(\"Selected quantities:\", quantities)      # printing ordered quantities\n",
    "print(\"Delivery Charge: $\", delivery_charge)   # printing delivery charge\n",
    "\n",
    "total_cost = sum(items[item]['price'] * quantities[item] for item in quantities)\n",
    "total_cost += delivery_charge                   # calculating totalcost \n",
    "\n",
    "print(\"Total Cost: $\", total_cost)             #printing total cost\n",
    "\n",
    "print(\"\\n------ Final Bill ------\")            # printing the final bill\n",
    "print(\"Customer Name:\", customer_name)\n",
    "print(\"Delivery Address:\", delivery_address)\n",
    "print(\"\\nItems Purchased:\")\n",
    "for item, quantity in quantities.items():\n",
    "    print(f\"{item}: Quantity - {quantity}, Price - ${items[item]['price']:.2f}, Subtotal - ${items[item]['price'] * quantity:.2f}\")\n",
    "print(\"\\nDelivery Charge: $\", delivery_charge)\n",
    "print(\"Total Cost: $\", total_cost)\n",
    "\n",
    "user_input = input(\"Do you want to continue (yes/no)? \").strip().lower() # Asking user if they want to continue\n",
    "if user_input != \"yes\":\n",
    "        print(\"Thank you for shopping with us! Visit Again.\")"
   ]
  }
 ],
 "metadata": {
  "kernelspec": {
   "display_name": "Python 3",
   "language": "python",
   "name": "python3"
  },
  "language_info": {
   "codemirror_mode": {
    "name": "ipython",
    "version": 3
   },
   "file_extension": ".py",
   "mimetype": "text/x-python",
   "name": "python",
   "nbconvert_exporter": "python",
   "pygments_lexer": "ipython3",
   "version": "3.8.5"
  }
 },
 "nbformat": 4,
 "nbformat_minor": 4
}
